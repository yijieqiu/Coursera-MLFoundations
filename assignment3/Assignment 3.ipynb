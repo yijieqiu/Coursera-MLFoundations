{
 "cells": [
  {
   "cell_type": "markdown",
   "metadata": {},
   "source": [
    "### Table of Contents\n",
    "1. [Question 1](#q1)\n",
    "2. [Question 2](#q2)\n",
    "3. [Question 3](#q3)\n",
    "4. [Question 4](#q4)\n",
    "5. [Question 5](#q5)\n",
    "6. [Questions 6-10](#q6-10)\n",
    "7. [Question 11](#q11)\n",
    "8. [Question 12](#q12)\n",
    "9. [Questions 13-15](#q13-15)\n",
    "10. [Questions 16-17](#q16-17)\n",
    "11. [Questions 18-20](#q18-20)"
   ]
  },
  {
   "cell_type": "code",
   "execution_count": 2,
   "metadata": {},
   "outputs": [],
   "source": [
    "import random\n",
    "import numpy as np\n",
    "import pandas as pd\n",
    "import scipy.linalg as linalg\n",
    "import matplotlib.pyplot as plt\n",
    "from math import exp, pow"
   ]
  },
  {
   "cell_type": "markdown",
   "metadata": {},
   "source": [
    "### Question 1 <a id=\"q1\" />\n",
    "<img src=\"https://github.com/yijieqiu/coursera-ml-foundations/raw/master/assignment3/q1.png\" alt=\"Question 1\" style=\"width: 600px;\"/>\n",
    "\n",
    "**Answer**: 100\n",
    "\n",
    "**Explanation**: Plugging in the given parameter values resulting in inequality $0.1^2(1- \\frac{8 + 1}{N} \\ge 0.008)$. Solving the inequality gives the answer 100."
   ]
  },
  {
   "cell_type": "markdown",
   "metadata": {},
   "source": [
    "### Question 2 <a id=\"q2\" />\n",
    "<img src=\"https://github.com/yijieqiu/coursera-ml-foundations/raw/master/assignment3/q2.png\" alt=\"Question 2\" style=\"width: 600px;\"/>\n",
    "\n",
    "**Answer**: $H^1126 = H$\n",
    "\n",
    "**Explanation**:\n",
    "  * Recall from lecture the geometric view and properties of hat matrix H\n",
    "      * Hat matrix H creates a **projection** of y onto X-hyperplane\n",
    "      * H is **positive semi-definite**\n",
    "      * H is **idempotent**\n",
    "      * $trace(I - H) = N - (d+1)$\n",
    "  * Given that H is idempotent, $H = H^1126$\n",
    "  * Given the trace, (d + 1) eigenvalues of H is 1\n",
    "  * Given $N > d+1$, there will be zeros scattered in H matrix, making it likely non-invertible\n",
    "  * Eigenvalues of semi-definite matrices are less than or equal to 1"
   ]
  },
  {
   "cell_type": "markdown",
   "metadata": {},
   "source": [
    "### Question 3 <a id=\"q3\" />\n",
    "<img src=\"https://github.com/yijieqiu/coursera-ml-foundations/raw/master/assignment3/q3.png\" alt=\"Question 3\" style=\"width: 600px;\"/>\n",
    "\n",
    "**Answer**: $err(w) = \\max(0, 1-yw^Tx)$\n",
    "\n",
    "**Explanation**: Plot the value given by each error function for the following senarios and compare them with those given by $sign(w^Tx) \\neq y$\n",
    "    * y = -1, $w^Tx = 1$\n",
    "    * y = -1, $w^Tx = -1$\n",
    "    * y = 1, $w^Tx = -1$\n",
    "    * y = 1, $w^Tx = 1$"
   ]
  },
  {
   "cell_type": "code",
   "execution_count": 22,
   "metadata": {},
   "outputs": [
    {
     "data": {
      "image/png": "[encoded data removed]",
      "text/plain": [
       "<Figure size 432x288 with 1 Axes>"
      ]
     },
     "metadata": {},
     "output_type": "display_data"
    }
   ],
   "source": [
    "# Question 3: Error functions visualized\n",
    "y = np.linspace(-2, 2, 200)\n",
    "# 0/1 error\n",
    "err_0 = y.copy()\n",
    "err_0[err_0 >= 0] = 0\n",
    "err_0[err_0 < 0] = 1\n",
    "\n",
    "err_a = np.maximum(0, -y)\n",
    "err_c = np.exp(-y)/2\n",
    "err_d = y.copy()\n",
    "err_d[err_d <= 1] = 0\n",
    "err_d[err_d > 0] = 1\n",
    "err_e = np.maximum(0, 1 - y)\n",
    "\n",
    "plt.plot(y, err_0, label=\"err0/1\")\n",
    "plt.plot(y, err_a, label=\"err_a\")\n",
    "plt.plot(y, err_c, label=\"err_c\")\n",
    "plt.plot(y, err_d, label=\"err_d\")\n",
    "plt.plot(y, err_e, label=\"err_e\")\n",
    "\n",
    "plt.legend()\n",
    "plt.ylabel('Error')\n",
    "plt.show()"
   ]
  },
  {
   "cell_type": "markdown",
   "metadata": {},
   "source": [
    "### Question 4 <a id=\"q4\" />\n",
    "<img src=\"https://github.com/yijieqiu/coursera-ml-foundations/raw/master/assignment3/q4.png\" alt=\"Question 4\" style=\"width: 600px;\"/>\n",
    "\n",
    "**Answer**: $err(w) = \\frac{1}{2}\\exp(-yw^Tx)$\n",
    "\n",
    "**Explanation**: Take partial derivative with respect to w for each of the error functions."
   ]
  },
  {
   "cell_type": "markdown",
   "metadata": {},
   "source": [
    "### Question 5 <a id=\"q5\" />\n",
    "<img src=\"https://github.com/yijieqiu/coursera-ml-foundations/raw/master/assignment3/q5.png\" alt=\"Question 5\" style=\"width: 600px;\"/>\n",
    "\n",
    "**Answer**: $err = \\max(0, -yw^Tx)$\n",
    "\n",
    "**Explanation**: Recall that for a given $w_t$, PLA iterates through the training set and update w for every point where $sign(w^Tx) \\ne y$. In other words, error/correction in PLA is either 0, or the entire difference between y and $w^Tx$ (for $y \\in {-1, 1}$)"
   ]
  },
  {
   "cell_type": "markdown",
   "metadata": {},
   "source": [
    "### Questions 6-10 <a id=\"q6-10\" />\n",
    "#### Question 6\n",
    "<img src=\"https://github.com/yijieqiu/coursera-ml-foundations/raw/master/assignment3/q6.png\" alt=\"Question 6\" style=\"width: 600px;\"/>\n",
    "\n",
    "**Answer**: (-2, 0)\n",
    "\n",
    "**Explanation**:\n",
    "\n",
    "Take partial derivative with respect to u and v\n",
    "$$\n",
    "    \\begin{align*}\n",
    "        E(u,v) &= e^u + e^{2v} + e^{uv} + u^2 - 2uv + 2v^2 -3u - 2v \\\\\n",
    "        \\frac{\\partial{E}}{\\partial{u}} &= e^u +  ve^{uv} + 2u - 2v - 3 \\\\\n",
    "        \\frac{\\partial{E}}{\\partial{v}} &= 2e^{2v} + ue^{uv} - 2u + 4v - 2 \\\\\n",
    "        \\\\\n",
    "        &\\text{Substituting in (u, v) = (0, 0):} \\\\\n",
    "        \\\\\n",
    "        \\frac{\\partial{E}}{\\partial{u}} &= 1 +  0 + 0 - 0 - 3 = -2 \\\\\n",
    "        \\frac{\\partial{E}}{\\partial{v}} &= 2 + 0 - 0 + 0 - 2 = 0\n",
    "    \\end{align*}\n",
    "$$"
   ]
  },
  {
   "cell_type": "markdown",
   "metadata": {},
   "source": [
    "#### Question 7\n",
    "<img src=\"https://github.com/yijieqiu/coursera-ml-foundations/raw/master/assignment3/q7.png\" alt=\"Question 7\" style=\"width: 600px;\"/>\n",
    "\n",
    "**Answer**: 2.825\n",
    "\n",
    "**Explanation**: See SGD code snippet below"
   ]
  },
  {
   "cell_type": "code",
   "execution_count": 7,
   "metadata": {},
   "outputs": [
    {
     "name": "stdout",
     "output_type": "stream",
     "text": [
      "u: 0.09413996302028127, v: 0.0017891105951028273\n",
      "E: 2.8250003566832635\n"
     ]
    }
   ],
   "source": [
    "# Question 7\n",
    "def q7_gradient(u, v):\n",
    "    partial_u = exp(u) + v*exp(u*v) + 2*u - 2*v - 3\n",
    "    partial_v = 2*exp(2*v) + u*exp(u*v) - 2*u + 4*v -2\n",
    "    return partial_u, partial_v\n",
    "\n",
    "def q7_sgd(u0 = 0, v0 = 0, step = 0.01, iteration = 5):\n",
    "    # starting gradient\n",
    "    u = u0\n",
    "    v = v0\n",
    "    for i in range(iteration):\n",
    "        gradient_u, gradient_v = q7_gradient(u, v)\n",
    "        u = u - step * gradient_u\n",
    "        v = v - step * gradient_v\n",
    "    print(\"u: {}, v: {}\".format(u, v))\n",
    "    return u, v\n",
    "\n",
    "def q7():\n",
    "    u, v = q7_sgd()\n",
    "    E = exp(u) + exp(2*v) + exp(u*v) + pow(u, 2) - 2*u*v + 2*pow(v, 2) - 3*u - 2*v\n",
    "    print(\"E: {}\".format(E))\n",
    "\n",
    "q7()"
   ]
  },
  {
   "cell_type": "markdown",
   "metadata": {},
   "source": [
    "#### Question 8\n",
    "<img src=\"https://github.com/yijieqiu/coursera-ml-foundations/raw/master/assignment3/q8.png\" alt=\"Question 8\" style=\"width: 600px;\"/>\n",
    "\n",
    "**Answer**: (1.5, 4, -1, -2, 0, 3)\n",
    "\n",
    "**Explanation**:\n",
    "Recall multivariate Taylor series. For *infinitely differentiable function* f in some open neighborhood around (x, y) = (a,b):\n",
    "$$ f(x,y) = f(a,b) + f_x(a, b)(x - a) + f_y(a, b)(y - b) + \\frac{1}{2!}[f_{xx}(a,b)(x-a)^2 + 2f_{xy}(a,b)(x - a)(x - b) + f_{yy}(y - b)^2] + \\dots$$\n",
    "\n",
    "Higher-order derivatives of E:\n",
    "$$\n",
    "    \\begin{align*}\n",
    "        E(u,v) &= e^u + e^{2v} + e^{uv} + u^2 - 2uv + 2v^2 -3u - 2v \\\\\n",
    "        \\frac{\\partial{E}}{\\partial{u}} &= e^u +  ve^{uv} + 2u - 2v - 3 \\\\\n",
    "        \\frac{\\partial{E}}{\\partial{v}} &= 2e^{2v} + ue^{uv} - 2u + 4v - 2 \\\\\n",
    "        \\frac{\\partial{E}}{\\partial{u^2}} &= e^u + v^2e^{uv} + 2 \\\\\n",
    "        \\frac{\\partial{E}}{\\partial{v^2}} &= 4e^{2v} + u^2e^v + 4 \\\\\n",
    "        \\frac{\\partial{E}}{\\partial{u}\\partial{v}} &= e^{uv} + uve^{uv} - 2 \\\\\n",
    "        \\\\\n",
    "        &\\text{Substituting in (u, v) = (0, 0):} \\\\\n",
    "        \\\\\n",
    "        E(u,v) &= 1 + 1 + 1 + 0 - 0 + 0 -0 - 0 = 3 \\\\\n",
    "        \\frac{\\partial{E}}{\\partial{u}} &= 1 +  0 + 0 - 0 - 3 = -2 \\\\\n",
    "        \\frac{\\partial{E}}{\\partial{v}} &= 2 + 0 - 0 + 0 - 2 = 0 \\\\\n",
    "        \\frac{\\partial{E}}{\\partial{u^2}} &= 1 + 0 + 2 = 3 \\\\\n",
    "        \\frac{\\partial{E}}{\\partial{v^2}} &= 4 + 0 + 4 = 8 \\\\\n",
    "        \\frac{\\partial{E}}{\\partial{u}\\partial{v}} &= 1 - 2 = -1\n",
    "    \\end{align*}\n",
    "$$\n",
    "\n",
    "Factor in the constant term $\\frac{1}{2!}$ from Taylor expansion shown above to reach final answer."
   ]
  },
  {
   "cell_type": "markdown",
   "metadata": {},
   "source": [
    "#### Question 9\n",
    "<img src=\"https://github.com/yijieqiu/coursera-ml-foundations/raw/master/assignment3/q9.png\" alt=\"Question 9\" style=\"width: 600px;\"/>\n",
    "\n",
    "**Answer**: $-(\\triangledown^2E(u.v))^{-1}\\triangledown E(u,v)$\n",
    "\n",
    "**Explanation**:\n",
    "See [Newton's method in optimization](https://en.wikipedia.org/wiki/Newton%27s_method_in_optimization). To summarize:\n",
    "\n",
    "Given differentiable equation f, the goal of optimization is to find stationary point  $x^*$ such that $f(x^*) = 0$.\n",
    "In order to find the iterative optimization function, let $x + \\vartriangle{x} = x^*$, by definition and with second-order Taylor expansion:\n",
    "\n",
    "$$\n",
    "    \\begin{align*}\n",
    "        0 &= \\frac{\\partial}{\\partial{\\vartriangle{x}}}(f(x_n) + f'(x_n)\\vartriangle{x} + \\frac{1}{2}f''(x_n)\\vartriangle{x}^2) \\\\\n",
    "        \\\\\n",
    "        &= f'(x_n) + f''(x_n)\\vartriangle{x} \\\\\n",
    "        \\\\\n",
    "        \\vartriangle{x} &= -\\frac{f'(x_n)}{f''(x_n)} \\\\\n",
    "        x_{n + 1} &= x_n + \\vartriangle{x} = x_n - \\frac{f'(x_n)}{f''(x_n)} \\\\\n",
    "        \\\\\n",
    "        &\\text{Genralizing to higher dimensions:} \\\\\n",
    "        \\\\\n",
    "        x_{n+1} &= x_n - [\\mathbf{H}f(x_n)]^{-1}\\triangledown{f(x_n)}, n \\geq 0 \\\\\n",
    "        \\\\\n",
    "        &\\text{where } \\mathbf{H} \\text{ is the Hessian matrix}\n",
    "    \\end{align*}\n",
    "$$"
   ]
  },
  {
   "cell_type": "markdown",
   "metadata": {},
   "source": [
    "#### Question 10\n",
    "<img src=\"https://github.com/yijieqiu/coursera-ml-foundations/raw/master/assignment3/q10.png\" alt=\"Question 10\" style=\"width: 600px;\"/>\n",
    "\n",
    "**Answer**: 2.361\n",
    "    \n",
    "**Explanation**: See Newton's method code snippet below"
   ]
  },
  {
   "cell_type": "code",
   "execution_count": 8,
   "metadata": {},
   "outputs": [
    {
     "name": "stdout",
     "output_type": "stream",
     "text": [
      "u: 0.6118117172604964, v: 0.07049954710163152\n",
      "E: 2.360823345643139\n"
     ]
    }
   ],
   "source": [
    "# Question 10\n",
    "def q10_gradient(u, v):\n",
    "    du = exp(u) + v*exp(u*v) + 2*u - 2*v - 3\n",
    "    dv = 2*exp(2*v) + u*exp(u*v) - 2*u + 4*v - 2\n",
    "    du2 = exp(u) + pow(v, 2)*exp(u*v) + 2\n",
    "    dv2 = 4*exp(2*v) + pow(u,2)*exp(u*v) + 4\n",
    "    dudv = exp(u*v) + v*u*exp(u*v) - 2\n",
    "    return du, dv, du2, dv2, dudv\n",
    "\n",
    "def q10_newton(u0 = 0, v0 = 0, iteration = 5):\n",
    "    # starting values\n",
    "    u = u0\n",
    "    v = v0\n",
    "    uv = np.array([[u0], [v0]])\n",
    "    for i in range(iteration):\n",
    "        du, dv, du2, dv2, dudv = q10_gradient(u, v)\n",
    "        dE = np.array([[du], [dv]])\n",
    "        dE2 = np.array([[du2, dudv], [dudv, dv2]])\n",
    "        \n",
    "        # Update value based on Hessian matrix\n",
    "        uv = uv - linalg.inv(dE2).dot(dE)\n",
    "        u = uv[0, 0]\n",
    "        v = uv[1, 0]\n",
    "\n",
    "    print(\"u: {}, v: {}\".format(u, v))\n",
    "    return u, v\n",
    "\n",
    "def q10():\n",
    "    u, v = q10_newton()\n",
    "    E = exp(u) + exp(2*v) + exp(u*v) + pow(u, 2) - 2*u*v + 2*pow(v, 2) - 3*u - 2*v\n",
    "    print(\"E: {}\".format(E))\n",
    "\n",
    "q10()"
   ]
  },
  {
   "cell_type": "markdown",
   "metadata": {},
   "source": [
    "### Question 11 <a id=\"q11\" />\n",
    "<img src=\"https://github.com/yijieqiu/coursera-ml-foundations/raw/master/assignment3/q11.png\" alt=\"Question 11\" style=\"width: 600px;\"/>\n",
    "\n",
    "**Answer**: $x_1, x_2, x_3, x_4, x_5, x_6$\n",
    "\n",
    "**Explanation**: Plot it"
   ]
  },
  {
   "cell_type": "markdown",
   "metadata": {},
   "source": [
    "### Question 12 <a id=\"q12\" />\n",
    "<img src=\"https://github.com/yijieqiu/coursera-ml-foundations/raw/master/assignment3/q12.png\" alt=\"Question 12\" style=\"width: 600px;\"/>"
   ]
  },
  {
   "cell_type": "markdown",
   "metadata": {},
   "source": [
    "### Questions 13-15 <a id=\"q13-15\" />\n",
    "#### Question 13\n",
    "<img src=\"https://github.com/yijieqiu/coursera-ml-foundations/raw/master/assignment3/q13.png\" alt=\"Question 13\" style=\"width: 600px;\"/>\n",
    "\n",
    "**Answer**: 0.5\n",
    "\n",
    "**Explanation**: See code snippet below"
   ]
  },
  {
   "cell_type": "code",
   "execution_count": 20,
   "metadata": {},
   "outputs": [],
   "source": [
    "# Question 13-15 helper method\n",
    "\n",
    "def generate_sample(size):\n",
    "    # Generate two 1-D arrays of specified size from unif(-1, 1)\n",
    "    x1 = np.random.uniform(-1, 1, size)\n",
    "    x2 = np.random.uniform(-1, 1, size)\n",
    "    # Stack the two arrays to form matrix in Chi space\n",
    "    X = np.c_[x1, x2]\n",
    "    # Add constant term\n",
    "    X = np.c_[np.ones((size, 1)), X]\n",
    "    \n",
    "    Y = np.sign(np.power(x1, 2) + np.power(x2, 2) - 0.6)\n",
    "    Y[Y == 0] = 1\n",
    "    # Add 10% noise, by randomly choosing indices and flipping signs of corresponding Y element\n",
    "    idx = np.random.choice(size, round(size * 0.1))\n",
    "    Y[idx] *= -1\n",
    "    return X, Y"
   ]
  },
  {
   "cell_type": "code",
   "execution_count": 8,
   "metadata": {},
   "outputs": [
    {
     "name": "stdout",
     "output_type": "stream",
     "text": [
      "Average E_in 0.5060770000000001\n"
     ]
    }
   ],
   "source": [
    "def q13(trials, samples):\n",
    "    err_total = 0\n",
    "    for i in range(trials):\n",
    "        X, Y = generate_sample(samples)\n",
    "        # Analystical soluation to linear regression\n",
    "        w = linalg.pinv(X.T.dot(X)).dot(X.T).dot(Y)\n",
    "        y_hat = np.sign(X.dot(w))\n",
    "        err_in = np.sum(y_hat != Y) / samples\n",
    "        err_total += err_in\n",
    "    print('Average E_in', err_total/trials)\n",
    "\n",
    "q13(1000, 1000)"
   ]
  },
  {
   "cell_type": "markdown",
   "metadata": {},
   "source": [
    "#### Question 14\n",
    "<img src=\"https://github.com/yijieqiu/coursera-ml-foundations/raw/master/assignment3/q14.png\" alt=\"Question 14\" style=\"width: 600px;\"/>\n",
    "\n",
    "**Answer**: $g(x_1, x_2) = sign(-1 - 0.05x_1 + 0.08x_2 + 0.13x_1x_2 + 1.5x_1^2 + 1.5x_2^2)$\n",
    "    \n",
    "**Explanation**: See code snippet below"
   ]
  },
  {
   "cell_type": "code",
   "execution_count": 41,
   "metadata": {},
   "outputs": [
    {
     "name": "stdout",
     "output_type": "stream",
     "text": [
      "Best w: [-1.05745308  0.09372794  0.05303517  0.16518202  1.51965484  1.64663399]\n",
      "Average E_in 0.11976299999999972\n"
     ]
    }
   ],
   "source": [
    "# Question 14\n",
    "\n",
    "def transform(X):\n",
    "    row, col = X.shape\n",
    "    # Target output after transform: 1 + X1 + X2 + X1X2 + X1^2 + X2^2\n",
    "    # Initialize a row * 6 array as placeholder for transformed X\n",
    "    X_tr = np.zeros((row, 6))\n",
    "    X_tr[:, 0:col] = X\n",
    "    X_tr[:, col] = X[:, 1]*X[:, 2] # X1X2\n",
    "    X_tr[:, col + 1] = X[:, 1]**2 # X1^2\n",
    "    X_tr[:, col + 2] = X[:, 2]**2 # X2^2\n",
    "    return X_tr\n",
    "\n",
    "def q14(trials, samples):\n",
    "    err_total = 0\n",
    "    err_min = 1\n",
    "    w_tr = np.zeros((1, 6))\n",
    "    for i in range(trials):\n",
    "        X, Y = generate_sample(samples)\n",
    "        X_tr = transform(X)\n",
    "        w = linalg.pinv(X_tr.T.dot(X_tr)).dot(X_tr.T).dot(Y)\n",
    "        y_hat = np.sign(X_tr.dot(w))\n",
    "        err_in = np.sum(y_hat != Y) / samples\n",
    "        err_total += err_in\n",
    "        if (err_in < err_min):\n",
    "            w_tr = w\n",
    "    print('Best w:' ,w_tr)\n",
    "    print('Average E_in', err_total/trials)\n",
    "\n",
    "q14(1000, 1000)"
   ]
  },
  {
   "cell_type": "markdown",
   "metadata": {},
   "source": [
    "#### Question 15\n",
    "<img src=\"https://github.com/yijieqiu/coursera-ml-foundations/raw/master/assignment3/q15.png\" alt=\"Question 15\" style=\"width: 600px;\"/>\n",
    "\n",
    "**Answer**: 0.1\n",
    "    \n",
    "**Explanation**: See output above "
   ]
  },
  {
   "cell_type": "markdown",
   "metadata": {},
   "source": [
    "### Questions 16-17\n",
    "#### Question 16\n",
    "<img src=\"https://github.com/yijieqiu/coursera-ml-foundations/raw/master/assignment3/q16.png\" alt=\"Question 16\" style=\"width: 600px;\"/>\n",
    "\n",
    "**Answer**: $$\\frac{1}{N}\\sum^{N}_{n=1}(\\ln(\\sum^{K}_{k=1}exp(w_k^Tx_n)) - w^T_{\\displaystyle y_n}x_n)$$\n",
    "\n",
    "**Explanation**:\n",
    "Best guess based on:\n",
    "* [Multinomial logistic regression](https://en.wikipedia.org/wiki/Multinomial_logistic_regression)\n",
    "* [Softmax regression](https://houxianxu.github.io/2015/04/23/logistic-softmax-regression/)"
   ]
  },
  {
   "cell_type": "markdown",
   "metadata": {},
   "source": [
    "#### Question 17\n",
    "<img src=\"https://github.com/yijieqiu/coursera-ml-foundations/raw/master/assignment3/q17.png\" alt=\"Question 17\" style=\"width: 600px;\"/>\n",
    "\n",
    "**Answer**: not sure...\n",
    "    \n",
    "**Explanation**: Take partial derivative of loss function from Q16, with respect to $w_i$"
   ]
  },
  {
   "cell_type": "markdown",
   "metadata": {},
   "source": [
    "### Questions 18-20\n",
    "#### Question 18\n",
    "<img src=\"https://github.com/yijieqiu/coursera-ml-foundations/raw/master/assignment3/q18.png\" alt=\"Question 18\" style=\"width: 600px;\"/>\n",
    "\n",
    "**Answer**: 0.475\n",
    "    \n",
    "**Explanation**: See code snippet below"
   ]
  },
  {
   "cell_type": "markdown",
   "metadata": {},
   "source": [
    "#### Question 19\n",
    "<img src=\"https://github.com/yijieqiu/coursera-ml-foundations/raw/master/assignment3/q19.png\" alt=\"Question 19\" style=\"width: 600px;\"/>\n",
    "\n",
    "**Answer**: 0.22\n",
    "    \n",
    "**Explanation**: See code snippet below"
   ]
  },
  {
   "cell_type": "markdown",
   "metadata": {},
   "source": [
    "#### Question 20\n",
    "<img src=\"https://github.com/yijieqiu/coursera-ml-foundations/raw/master/assignment3/q20.png\" alt=\"Question 20\" style=\"width: 600px;\"/>\n",
    "\n",
    "**Answer**: 0.475\n",
    "    \n",
    "**Explanation**: See code snippet below"
   ]
  },
  {
   "cell_type": "code",
   "execution_count": 67,
   "metadata": {},
   "outputs": [],
   "source": [
    "# Question 18-20 helper\n",
    "\n",
    "def load_data(filename):\n",
    "    data = np.loadtxt(filename)\n",
    "    col, row = data.shape\n",
    "    X = np.c_[np.ones((col, 1)), data[:, 0: row - 1]]\n",
    "    Y = data[:, row - 1:row]\n",
    "    return X, Y\n",
    "\n",
    "def sigmoid(s):\n",
    "    return 1 / (1 + np.exp(-s))\n",
    "\n",
    "def logistic_reg(X, Y, eta, T, single_pt = False):\n",
    "    \"\"\"\n",
    "    Run logistic regression on the given input set using gradient descent\n",
    "    \n",
    "    Parameters:\n",
    "    X (ndarray): feature matrix\n",
    "    y (ndarray): target matrix\n",
    "    eta (float): gradient descent step size\n",
    "    T (int): number of iterations\n",
    "    single_pt (bool): whether the gradient should be calculated based on a single point in the input (sequential)\n",
    "    \"\"\"\n",
    "    row, col = X.shape\n",
    "    w = np.zeros((col, 1))\n",
    "    idx = 0 # index for sequential access, in cases where single-point gradient is used\n",
    "    for i in range(T):\n",
    "        if single_pt:\n",
    "            if idx >= row:\n",
    "                idx = 0 # wrap around the input matrix\n",
    "            gradient = -Y[idx, 0]*X[idx:idx+1, :].T*sigmoid(-X[idx:idx+1, :].dot(w)[0]*Y[idx, 0])\n",
    "            idx += 1\n",
    "        else:\n",
    "            gradient = (-Y * X).T.dot(sigmoid(-X.dot(w)*Y)) / row\n",
    "        \n",
    "        # update weight\n",
    "        w -= eta * gradient\n",
    "    return w\n",
    "\n",
    "def logistic_err(X, Y, w):\n",
    "    y_hat = X.dot(w)\n",
    "    y_hat[y_hat > 0] = 1\n",
    "    y_hat[y_hat <= 0] = -1\n",
    "    return np.sum(y_hat != Y) / len(Y)"
   ]
  },
  {
   "cell_type": "code",
   "execution_count": 49,
   "metadata": {},
   "outputs": [],
   "source": [
    "# Load data\n",
    "X, Y = load_data('hw3_train.dat')\n",
    "X_test, Y_test = load_data('hw3_test.dat')"
   ]
  },
  {
   "cell_type": "code",
   "execution_count": 69,
   "metadata": {},
   "outputs": [
    {
     "name": "stdout",
     "output_type": "stream",
     "text": [
      "Err_in: 0.467\n",
      "Err_out 0.477\n"
     ]
    }
   ],
   "source": [
    "# Question 18\n",
    "\n",
    "w = logistic_reg(X, Y, 0.001, 1000)\n",
    "err_in = logistic_err(X, Y, w)\n",
    "err_out = logistic_err(X_test, Y_test, w)\n",
    "print('Err_in:', err_in)\n",
    "print('Err_out', err_out)"
   ]
  },
  {
   "cell_type": "code",
   "execution_count": 59,
   "metadata": {},
   "outputs": [
    {
     "name": "stdout",
     "output_type": "stream",
     "text": [
      "Err_in: 0.197\n",
      "Err_out 0.22\n"
     ]
    }
   ],
   "source": [
    "# Question 19\n",
    "\n",
    "w = logistic_reg(X, Y, 0.01, 2000)\n",
    "err_in = logistic_err(X, Y, w)\n",
    "err_out = logistic_err(X_test, Y_test, w)\n",
    "print('Err_in:', err_in)\n",
    "print('Err_out', err_out)"
   ]
  },
  {
   "cell_type": "code",
   "execution_count": 68,
   "metadata": {},
   "outputs": [
    {
     "name": "stdout",
     "output_type": "stream",
     "text": [
      "Err_in: 0.464\n",
      "Err_out 0.473\n"
     ]
    }
   ],
   "source": [
    "# Question 20\n",
    "\n",
    "w = logistic_reg(X, Y, 0.001, 2000, True)\n",
    "err_in = logistic_err(X, Y, w)\n",
    "err_out = logistic_err(X_test, Y_test, w)\n",
    "print('Err_in:', err_in)\n",
    "print('Err_out', err_out)"
   ]
  }
 ],
 "metadata": {
  "kernelspec": {
   "display_name": "Python 3",
   "language": "python",
   "name": "python3"
  },
  "language_info": {
   "codemirror_mode": {
    "name": "ipython",
    "version": 3
   },
   "file_extension": ".py",
   "mimetype": "text/x-python",
   "name": "python",
   "nbconvert_exporter": "python",
   "pygments_lexer": "ipython3",
   "version": "3.6.4"
  }
 },
 "nbformat": 4,
 "nbformat_minor": 2
}

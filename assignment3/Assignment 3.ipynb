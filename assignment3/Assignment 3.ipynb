{
 "cells": [
  {
   "cell_type": "code",
   "execution_count": null,
   "metadata": {},
   "outputs": [],
   "source": [
    "### Table of Contents\n",
    "1. [Question 1](#q1)\n",
    "2. [Question 2](#q2)\n",
    "3. [Question 3](#q3)\n",
    "4. [Question 4](#q4)\n",
    "5. [Question 5](#q5)\n",
    "6. [Questions 6-10](#q6-10)\n",
    "7. [Question 11](#q11)\n",
    "8. [Question 12](#q12)\n",
    "9. [Questions 13-15](#q13-15)\n",
    "10. [Questions 16-17](#q16-17)\n",
    "11. [Questions 18-20](#q18-20)"
   ]
  },
  {
   "cell_type": "code",
   "execution_count": 2,
   "metadata": {},
   "outputs": [
    {
     "ename": "SyntaxError",
     "evalue": "invalid syntax (<ipython-input-2-4a00b7051fcd>, line 2)",
     "output_type": "error",
     "traceback": [
      "\u001b[0;36m  File \u001b[0;32m\"<ipython-input-2-4a00b7051fcd>\"\u001b[0;36m, line \u001b[0;32m2\u001b[0m\n\u001b[0;31m    <img src=\"https://github.com/yijieqiu/coursera-ml-foundations/raw/master/assignment3/q1.png\" alt=\"Question 1\" style=\"width: 500px\"/>\u001b[0m\n\u001b[0m    ^\u001b[0m\n\u001b[0;31mSyntaxError\u001b[0m\u001b[0;31m:\u001b[0m invalid syntax\n"
     ]
    }
   ],
   "source": [
    "### Question 1 <a id=\"q1\" />\n",
    "<img src=\"https://github.com/yijieqiu/coursera-ml-foundations/raw/master/assignment3/q1.png\" alt=\"Question 1\" style=\"width: 500px\"/>"
   ]
  }
 ],
 "metadata": {
  "kernelspec": {
   "display_name": "Python 3",
   "language": "python",
   "name": "python3"
  },
  "language_info": {
   "codemirror_mode": {
    "name": "ipython",
    "version": 3
   },
   "file_extension": ".py",
   "mimetype": "text/x-python",
   "name": "python",
   "nbconvert_exporter": "python",
   "pygments_lexer": "ipython3",
   "version": "3.6.4"
  }
 },
 "nbformat": 4,
 "nbformat_minor": 2
}
